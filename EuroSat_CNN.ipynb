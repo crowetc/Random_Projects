{
  "nbformat": 4,
  "nbformat_minor": 0,
  "metadata": {
    "colab": {
      "name": "EuroSat_CNN.ipynb",
      "provenance": [],
      "collapsed_sections": [],
      "authorship_tag": "ABX9TyOKBqyYn436ZxEONhT88a0G",
      "include_colab_link": true
    },
    "kernelspec": {
      "name": "python3",
      "display_name": "Python 3"
    }
  },
  "cells": [
    {
      "cell_type": "markdown",
      "metadata": {
        "id": "view-in-github",
        "colab_type": "text"
      },
      "source": [
        "<a href=\"https://colab.research.google.com/github/crowetc/Random_Projects/blob/master/EuroSat_CNN.ipynb\" target=\"_parent\"><img src=\"https://colab.research.google.com/assets/colab-badge.svg\" alt=\"Open In Colab\"/></a>"
      ]
    },
    {
      "cell_type": "markdown",
      "metadata": {
        "id": "exG_KElVEMdU",
        "colab_type": "text"
      },
      "source": [
        "# **Land Use Classifier with EuroSat Dataset**\n",
        "\n",
        "This project creates a convolutional neural network to classify land uses from the EuroSat dataset. It explores different methods for saving model weights during training."
      ]
    },
    {
      "cell_type": "markdown",
      "metadata": {
        "id": "qUYE18LozlCG",
        "colab_type": "text"
      },
      "source": [
        "#### The EuroSAT dataset\n",
        "\n",
        "This classifier uses the [EuroSAT dataset](https://github.com/phelber/EuroSAT). It consists of 27000 labelled Sentinel-2 satellite images of different land uses: residential, industrial, highway, river, forest, pasture, herbaceous vegetation, annual crop, permanent crop and sea/lake. For a reference, see the following papers:\n",
        "- Eurosat: A novel dataset and deep learning benchmark for land use and land cover classification. Patrick Helber, Benjamin Bischke, Andreas Dengel, Damian Borth. IEEE Journal of Selected Topics in Applied Earth Observations and Remote Sensing, 2019.\n",
        "- Introducing EuroSAT: A Novel Dataset and Deep Learning Benchmark for Land Use and Land Cover Classification. Patrick Helber, Benjamin Bischke, Andreas Dengel. 2018 IEEE International Geoscience and Remote Sensing Symposium, 2018.\n",
        "\n",
        "The train and test datasets used for this project can be downloaded from the following links:\n",
        "\n",
        "x_train: https://drive.google.com/open?id=1cUaIEd9-MLJHFGjLz5QziNvfBtYygplX\n",
        "\n",
        "y_train: https://drive.google.com/open?id=1hv24Ufiio9rBeSqgnNoM3dr5sVGwOmBy\n",
        "\n",
        "x_test: https://drive.google.com/open?id=1AH9lKHT5P2oQLz8SGMRPWs_M9wIM2ZRH\n",
        "\n",
        "y_test: https://drive.google.com/open?id=1i4_azocSDuU3TcDf3OSHO1vF0D5-xMU6"
      ]
    },
    {
      "cell_type": "code",
      "metadata": {
        "id": "yZoc5tYkDxk6",
        "colab_type": "code",
        "colab": {}
      },
      "source": [
        "# Import Packages\n",
        "\n",
        "import tensorflow as tf\n",
        "from tensorflow.keras.preprocessing.image import load_img, img_to_array\n",
        "from tensorflow.keras.models import Sequential, load_model\n",
        "from tensorflow.keras.layers import Dense, Flatten, Conv2D, MaxPooling2D, BatchNormalization\n",
        "from tensorflow.keras.callbacks import ModelCheckpoint, EarlyStopping\n",
        "import os\n",
        "import numpy as np\n",
        "import matplotlib.pyplot as plt\n",
        "import pandas as pd"
      ],
      "execution_count": 148,
      "outputs": []
    },
    {
      "cell_type": "code",
      "metadata": {
        "id": "a5B5RZWGTpuZ",
        "colab_type": "code",
        "colab": {
          "base_uri": "https://localhost:8080/",
          "height": 34
        },
        "outputId": "5550af33-d5fc-412d-b1a0-010bccb85e32"
      },
      "source": [
        "# Connect to Google Drive\n",
        "\n",
        "from google.colab import drive\n",
        "drive.mount('/content/gdrive')"
      ],
      "execution_count": 92,
      "outputs": [
        {
          "output_type": "stream",
          "text": [
            "Drive already mounted at /content/gdrive; to attempt to forcibly remount, call drive.mount(\"/content/gdrive\", force_remount=True).\n"
          ],
          "name": "stdout"
        }
      ]
    },
    {
      "cell_type": "code",
      "metadata": {
        "id": "LmxEcia1TyDl",
        "colab_type": "code",
        "colab": {}
      },
      "source": [
        "# Import the EuroSat data from Google Drive\n",
        "\n",
        "def load_eurosat_data():\n",
        "    x_train = np.load('./gdrive/My Drive/Colab_Notebooks/EuroSat/data/x_train.npy')\n",
        "    y_train = np.load('./gdrive/My Drive/Colab_Notebooks/EuroSat/data/y_train.npy')\n",
        "    x_test  = np.load('./gdrive/My Drive/Colab_Notebooks/EuroSat/data/x_test.npy')\n",
        "    y_test  = np.load('./gdrive/My Drive/Colab_Notebooks/EuroSat/data/y_test.npy')\n",
        "    return (x_train, y_train), (x_test, y_test)\n",
        "\n",
        "(x_train, y_train), (x_test, y_test) = load_eurosat_data()\n",
        "x_train = x_train / 255.0\n",
        "x_test = x_test / 255.0"
      ],
      "execution_count": 93,
      "outputs": []
    },
    {
      "cell_type": "code",
      "metadata": {
        "id": "KMh8ASRJi5ZI",
        "colab_type": "code",
        "colab": {}
      },
      "source": [
        "# Define get_new_model function\n",
        "\n",
        "def get_new_model(input_shape):\n",
        "  model = Sequential([\n",
        "      Conv2D(32, (3,3), padding='SAME', activation='relu',\n",
        "             input_shape=input_shape, name='conv_1'),\n",
        "      MaxPooling2D((2,2), name='pool_1'),\n",
        "      BatchNormalization(name='batch_norm_1'),\n",
        "      Conv2D(16, (3,3), padding='SAME', activation='relu', name='conv_2'),\n",
        "      MaxPooling2D((2,2), name='pool_2'),\n",
        "      BatchNormalization(name='batch_norm_2'),\n",
        "      Conv2D(8, (3,3), padding='SAME', activation='relu', name='conv_3'),\n",
        "      MaxPooling2D((2,2), name='pool_3'),\n",
        "      BatchNormalization(name='batch_norm_3'),\n",
        "      Conv2D(8, (3,3), padding='SAME', activation='relu', name='conv_4'),\n",
        "      MaxPooling2D((2,2), name='pool_4'),\n",
        "      BatchNormalization(name='batch_norm_4'),\n",
        "      Flatten(name='flatten'),\n",
        "      Dense(32, activation='relu', name='dense_1'),\n",
        "      Dense(10, activation='softmax', name='dense_2')\n",
        "  ])\n",
        "\n",
        "  model.compile(optimizer='adam',\n",
        "                  loss='sparse_categorical_crossentropy',\n",
        "                  metrics=['accuracy'])\n",
        "\n",
        "  return model"
      ],
      "execution_count": 94,
      "outputs": []
    },
    {
      "cell_type": "code",
      "metadata": {
        "id": "qM8HWvFxkpGD",
        "colab_type": "code",
        "colab": {}
      },
      "source": [
        "# Define get_test_accuracy function\n",
        "\n",
        "def get_test_accuracy(model, x_test, y_test):\n",
        "    \"\"\"Test model classification accuracy\"\"\"\n",
        "    test_loss, test_acc = model.evaluate(x=x_test, y=y_test, verbose=0)\n",
        "    print('accuracy: {acc:0.3f}'.format(acc=test_acc))"
      ],
      "execution_count": 95,
      "outputs": []
    },
    {
      "cell_type": "code",
      "metadata": {
        "id": "WlwiQudkkyV2",
        "colab_type": "code",
        "colab": {
          "base_uri": "https://localhost:8080/",
          "height": 672
        },
        "outputId": "abb95399-0951-4f07-81d5-b41a88957769"
      },
      "source": [
        "# Generate model and test untrained accuracy\n",
        "model = get_new_model(x_train[0].shape)\n",
        "model.summary()\n",
        "get_test_accuracy(model, x_test, y_test)"
      ],
      "execution_count": 96,
      "outputs": [
        {
          "output_type": "stream",
          "text": [
            "Model: \"sequential_7\"\n",
            "_________________________________________________________________\n",
            "Layer (type)                 Output Shape              Param #   \n",
            "=================================================================\n",
            "conv_1 (Conv2D)              (None, 64, 64, 32)        896       \n",
            "_________________________________________________________________\n",
            "pool_1 (MaxPooling2D)        (None, 32, 32, 32)        0         \n",
            "_________________________________________________________________\n",
            "batch_norm_1 (BatchNormaliza (None, 32, 32, 32)        128       \n",
            "_________________________________________________________________\n",
            "conv_2 (Conv2D)              (None, 32, 32, 16)        4624      \n",
            "_________________________________________________________________\n",
            "pool_2 (MaxPooling2D)        (None, 16, 16, 16)        0         \n",
            "_________________________________________________________________\n",
            "batch_norm_2 (BatchNormaliza (None, 16, 16, 16)        64        \n",
            "_________________________________________________________________\n",
            "conv_3 (Conv2D)              (None, 16, 16, 8)         1160      \n",
            "_________________________________________________________________\n",
            "pool_3 (MaxPooling2D)        (None, 8, 8, 8)           0         \n",
            "_________________________________________________________________\n",
            "batch_norm_3 (BatchNormaliza (None, 8, 8, 8)           32        \n",
            "_________________________________________________________________\n",
            "conv_4 (Conv2D)              (None, 8, 8, 8)           584       \n",
            "_________________________________________________________________\n",
            "pool_4 (MaxPooling2D)        (None, 4, 4, 8)           0         \n",
            "_________________________________________________________________\n",
            "batch_norm_4 (BatchNormaliza (None, 4, 4, 8)           32        \n",
            "_________________________________________________________________\n",
            "flatten (Flatten)            (None, 128)               0         \n",
            "_________________________________________________________________\n",
            "dense_1 (Dense)              (None, 32)                4128      \n",
            "_________________________________________________________________\n",
            "dense_2 (Dense)              (None, 10)                330       \n",
            "=================================================================\n",
            "Total params: 11,978\n",
            "Trainable params: 11,850\n",
            "Non-trainable params: 128\n",
            "_________________________________________________________________\n",
            "accuracy: 0.079\n"
          ],
          "name": "stdout"
        }
      ]
    },
    {
      "cell_type": "code",
      "metadata": {
        "id": "y9FrGkssm0Fb",
        "colab_type": "code",
        "colab": {}
      },
      "source": [
        "# Define checkpoint functions\n",
        "\n",
        "def get_checkpoint_every_epoch():\n",
        "  \"\"\"\n",
        "  This function returns a ModelCheckpoint object that:\n",
        "  - saves the weights only at the end of every epoch\n",
        "  - saves into a directory called 'checkpoints_every_epoch' inside the current working directory\n",
        "  - generates filenames in that directory like 'checkpoint_XXX' where\n",
        "    XXX is the epoch number formatted to have three digits, e.g. 001, 002, 003, etc.\n",
        "  \"\"\"\n",
        "  checkpoint_path = 'checkpoints_every_epoch/checkpoint_{epoch:03d}'\n",
        "  checkpoint = ModelCheckpoint(checkpoint_path,\n",
        "                               save_weights_only=True,\n",
        "                               save_freq='epoch',\n",
        "                               verbose=1)\n",
        "  return checkpoint\n",
        "\n",
        "def get_checkpoint_best_only():\n",
        "    \"\"\"\n",
        "    This function returns a ModelCheckpoint object that:\n",
        "    - saves only the weights that generate the highest validation (testing) accuracy\n",
        "    - saves into a directory called 'checkpoints_best_only' inside the current working directory\n",
        "    - generates a file called 'checkpoints_best_only/checkpoint' \n",
        "    \"\"\"\n",
        "    checkpoint_path = 'checkpoints_best_only/checkpoint'\n",
        "    checkpoint = ModelCheckpoint(checkpoint_path,\n",
        "                                save_best_only=True,\n",
        "                                save_weights_only=True,\n",
        "                                verbose=1)\n",
        "    return checkpoint"
      ],
      "execution_count": 97,
      "outputs": []
    },
    {
      "cell_type": "code",
      "metadata": {
        "id": "QLMAQTckyIKM",
        "colab_type": "code",
        "colab": {}
      },
      "source": [
        "# Define early_stopping function\n",
        "\n",
        "def get_early_stopping():\n",
        "  \"\"\"\n",
        "  This function returns an EarlyStopping callback that stops training when\n",
        "  the validation (testing) accuracy has not improved in 3 epochs.\n",
        "  \"\"\"\n",
        "  early_stopping = EarlyStopping(\n",
        "    monitor='accuracy', min_delta=0, patience=3, verbose=1, mode='max',\n",
        "  )\n",
        "\n",
        "  return early_stopping"
      ],
      "execution_count": 98,
      "outputs": []
    },
    {
      "cell_type": "code",
      "metadata": {
        "id": "5XaPHP9N1PJw",
        "colab_type": "code",
        "colab": {}
      },
      "source": [
        "# Generate Callbacks\n",
        "\n",
        "checkpoint_every_epoch = get_checkpoint_every_epoch()\n",
        "checkpoint_best_only = get_checkpoint_best_only()\n",
        "early_stopping = get_early_stopping()"
      ],
      "execution_count": 99,
      "outputs": []
    },
    {
      "cell_type": "code",
      "metadata": {
        "id": "I5p7oFwH1wJV",
        "colab_type": "code",
        "colab": {
          "base_uri": "https://localhost:8080/",
          "height": 1000
        },
        "outputId": "e663f058-7498-43ac-a3e8-1d0f6d075fc1"
      },
      "source": [
        "# Train model with callbacks\n",
        "\n",
        "callbacks = [checkpoint_every_epoch, checkpoint_best_only, early_stopping]\n",
        "call_history = model.fit(x_train, y_train, epochs=50, validation_data=(x_test, y_test), callbacks=callbacks)"
      ],
      "execution_count": 100,
      "outputs": [
        {
          "output_type": "stream",
          "text": [
            "Epoch 1/50\n",
            "125/125 [==============================] - ETA: 0s - loss: 1.5560 - accuracy: 0.4410\n",
            "Epoch 00001: saving model to checkpoints_every_epoch/checkpoint_001\n",
            "\n",
            "Epoch 00001: val_loss improved from inf to 2.70182, saving model to checkpoints_best_only/checkpoint\n",
            "125/125 [==============================] - 20s 156ms/step - loss: 1.5560 - accuracy: 0.4410 - val_loss: 2.7018 - val_accuracy: 0.1060\n",
            "Epoch 2/50\n",
            "125/125 [==============================] - ETA: 0s - loss: 1.1116 - accuracy: 0.5975\n",
            "Epoch 00002: saving model to checkpoints_every_epoch/checkpoint_002\n",
            "\n",
            "Epoch 00002: val_loss did not improve from 2.70182\n",
            "125/125 [==============================] - 19s 154ms/step - loss: 1.1116 - accuracy: 0.5975 - val_loss: 3.5115 - val_accuracy: 0.1060\n",
            "Epoch 3/50\n",
            "125/125 [==============================] - ETA: 0s - loss: 0.9252 - accuracy: 0.6582\n",
            "Epoch 00003: saving model to checkpoints_every_epoch/checkpoint_003\n",
            "\n",
            "Epoch 00003: val_loss did not improve from 2.70182\n",
            "125/125 [==============================] - 19s 152ms/step - loss: 0.9252 - accuracy: 0.6582 - val_loss: 3.7472 - val_accuracy: 0.1120\n",
            "Epoch 4/50\n",
            "125/125 [==============================] - ETA: 0s - loss: 0.8248 - accuracy: 0.7020\n",
            "Epoch 00004: saving model to checkpoints_every_epoch/checkpoint_004\n",
            "\n",
            "Epoch 00004: val_loss did not improve from 2.70182\n",
            "125/125 [==============================] - 19s 153ms/step - loss: 0.8248 - accuracy: 0.7020 - val_loss: 2.7800 - val_accuracy: 0.1960\n",
            "Epoch 5/50\n",
            "125/125 [==============================] - ETA: 0s - loss: 0.7681 - accuracy: 0.7230\n",
            "Epoch 00005: saving model to checkpoints_every_epoch/checkpoint_005\n",
            "\n",
            "Epoch 00005: val_loss improved from 2.70182 to 1.50796, saving model to checkpoints_best_only/checkpoint\n",
            "125/125 [==============================] - 19s 151ms/step - loss: 0.7681 - accuracy: 0.7230 - val_loss: 1.5080 - val_accuracy: 0.5180\n",
            "Epoch 6/50\n",
            "125/125 [==============================] - ETA: 0s - loss: 0.7218 - accuracy: 0.7430\n",
            "Epoch 00006: saving model to checkpoints_every_epoch/checkpoint_006\n",
            "\n",
            "Epoch 00006: val_loss improved from 1.50796 to 1.12307, saving model to checkpoints_best_only/checkpoint\n",
            "125/125 [==============================] - 19s 152ms/step - loss: 0.7218 - accuracy: 0.7430 - val_loss: 1.1231 - val_accuracy: 0.5760\n",
            "Epoch 7/50\n",
            "125/125 [==============================] - ETA: 0s - loss: 0.6701 - accuracy: 0.7590\n",
            "Epoch 00007: saving model to checkpoints_every_epoch/checkpoint_007\n",
            "\n",
            "Epoch 00007: val_loss improved from 1.12307 to 1.01687, saving model to checkpoints_best_only/checkpoint\n",
            "125/125 [==============================] - 19s 153ms/step - loss: 0.6701 - accuracy: 0.7590 - val_loss: 1.0169 - val_accuracy: 0.6230\n",
            "Epoch 8/50\n",
            "125/125 [==============================] - ETA: 0s - loss: 0.6484 - accuracy: 0.7648\n",
            "Epoch 00008: saving model to checkpoints_every_epoch/checkpoint_008\n",
            "\n",
            "Epoch 00008: val_loss improved from 1.01687 to 0.91176, saving model to checkpoints_best_only/checkpoint\n",
            "125/125 [==============================] - 19s 155ms/step - loss: 0.6484 - accuracy: 0.7648 - val_loss: 0.9118 - val_accuracy: 0.6740\n",
            "Epoch 9/50\n",
            "125/125 [==============================] - ETA: 0s - loss: 0.5930 - accuracy: 0.7908\n",
            "Epoch 00009: saving model to checkpoints_every_epoch/checkpoint_009\n",
            "\n",
            "Epoch 00009: val_loss did not improve from 0.91176\n",
            "125/125 [==============================] - 19s 153ms/step - loss: 0.5930 - accuracy: 0.7908 - val_loss: 1.7479 - val_accuracy: 0.4680\n",
            "Epoch 10/50\n",
            "125/125 [==============================] - ETA: 0s - loss: 0.5889 - accuracy: 0.7903\n",
            "Epoch 00010: saving model to checkpoints_every_epoch/checkpoint_010\n",
            "\n",
            "Epoch 00010: val_loss did not improve from 0.91176\n",
            "125/125 [==============================] - 19s 152ms/step - loss: 0.5889 - accuracy: 0.7903 - val_loss: 1.3007 - val_accuracy: 0.6230\n",
            "Epoch 11/50\n",
            "125/125 [==============================] - ETA: 0s - loss: 0.5377 - accuracy: 0.8120\n",
            "Epoch 00011: saving model to checkpoints_every_epoch/checkpoint_011\n",
            "\n",
            "Epoch 00011: val_loss improved from 0.91176 to 0.87767, saving model to checkpoints_best_only/checkpoint\n",
            "125/125 [==============================] - 19s 153ms/step - loss: 0.5377 - accuracy: 0.8120 - val_loss: 0.8777 - val_accuracy: 0.6820\n",
            "Epoch 12/50\n",
            "125/125 [==============================] - ETA: 0s - loss: 0.5570 - accuracy: 0.8000\n",
            "Epoch 00012: saving model to checkpoints_every_epoch/checkpoint_012\n",
            "\n",
            "Epoch 00012: val_loss did not improve from 0.87767\n",
            "125/125 [==============================] - 19s 156ms/step - loss: 0.5570 - accuracy: 0.8000 - val_loss: 1.6459 - val_accuracy: 0.5490\n",
            "Epoch 13/50\n",
            "125/125 [==============================] - ETA: 0s - loss: 0.5049 - accuracy: 0.8270\n",
            "Epoch 00013: saving model to checkpoints_every_epoch/checkpoint_013\n",
            "\n",
            "Epoch 00013: val_loss did not improve from 0.87767\n",
            "125/125 [==============================] - 19s 154ms/step - loss: 0.5049 - accuracy: 0.8270 - val_loss: 0.9722 - val_accuracy: 0.6740\n",
            "Epoch 14/50\n",
            "125/125 [==============================] - ETA: 0s - loss: 0.4597 - accuracy: 0.8307\n",
            "Epoch 00014: saving model to checkpoints_every_epoch/checkpoint_014\n",
            "\n",
            "Epoch 00014: val_loss did not improve from 0.87767\n",
            "125/125 [==============================] - 19s 155ms/step - loss: 0.4597 - accuracy: 0.8307 - val_loss: 1.2120 - val_accuracy: 0.6190\n",
            "Epoch 15/50\n",
            "125/125 [==============================] - ETA: 0s - loss: 0.4793 - accuracy: 0.8325\n",
            "Epoch 00015: saving model to checkpoints_every_epoch/checkpoint_015\n",
            "\n",
            "Epoch 00015: val_loss did not improve from 0.87767\n",
            "125/125 [==============================] - 19s 154ms/step - loss: 0.4793 - accuracy: 0.8325 - val_loss: 3.4079 - val_accuracy: 0.3640\n",
            "Epoch 16/50\n",
            "125/125 [==============================] - ETA: 0s - loss: 0.4533 - accuracy: 0.8397\n",
            "Epoch 00016: saving model to checkpoints_every_epoch/checkpoint_016\n",
            "\n",
            "Epoch 00016: val_loss improved from 0.87767 to 0.79165, saving model to checkpoints_best_only/checkpoint\n",
            "125/125 [==============================] - 21s 164ms/step - loss: 0.4533 - accuracy: 0.8397 - val_loss: 0.7917 - val_accuracy: 0.7280\n",
            "Epoch 17/50\n",
            "125/125 [==============================] - ETA: 0s - loss: 0.4322 - accuracy: 0.8382\n",
            "Epoch 00017: saving model to checkpoints_every_epoch/checkpoint_017\n",
            "\n",
            "Epoch 00017: val_loss did not improve from 0.79165\n",
            "125/125 [==============================] - 19s 156ms/step - loss: 0.4322 - accuracy: 0.8382 - val_loss: 0.9883 - val_accuracy: 0.6850\n",
            "Epoch 18/50\n",
            "125/125 [==============================] - ETA: 0s - loss: 0.4009 - accuracy: 0.8597\n",
            "Epoch 00018: saving model to checkpoints_every_epoch/checkpoint_018\n",
            "\n",
            "Epoch 00018: val_loss did not improve from 0.79165\n",
            "125/125 [==============================] - 19s 154ms/step - loss: 0.4009 - accuracy: 0.8597 - val_loss: 0.9240 - val_accuracy: 0.7090\n",
            "Epoch 19/50\n",
            "125/125 [==============================] - ETA: 0s - loss: 0.4000 - accuracy: 0.8593\n",
            "Epoch 00019: saving model to checkpoints_every_epoch/checkpoint_019\n",
            "\n",
            "Epoch 00019: val_loss did not improve from 0.79165\n",
            "125/125 [==============================] - 19s 153ms/step - loss: 0.4000 - accuracy: 0.8593 - val_loss: 1.1889 - val_accuracy: 0.6670\n",
            "Epoch 20/50\n",
            "125/125 [==============================] - ETA: 0s - loss: 0.3770 - accuracy: 0.8633\n",
            "Epoch 00020: saving model to checkpoints_every_epoch/checkpoint_020\n",
            "\n",
            "Epoch 00020: val_loss did not improve from 0.79165\n",
            "125/125 [==============================] - 22s 177ms/step - loss: 0.3770 - accuracy: 0.8633 - val_loss: 1.0623 - val_accuracy: 0.6400\n",
            "Epoch 21/50\n",
            "125/125 [==============================] - ETA: 0s - loss: 0.3623 - accuracy: 0.8700\n",
            "Epoch 00021: saving model to checkpoints_every_epoch/checkpoint_021\n",
            "\n",
            "Epoch 00021: val_loss did not improve from 0.79165\n",
            "125/125 [==============================] - 19s 154ms/step - loss: 0.3623 - accuracy: 0.8700 - val_loss: 0.9179 - val_accuracy: 0.7090\n",
            "Epoch 22/50\n",
            "125/125 [==============================] - ETA: 0s - loss: 0.3883 - accuracy: 0.8600\n",
            "Epoch 00022: saving model to checkpoints_every_epoch/checkpoint_022\n",
            "\n",
            "Epoch 00022: val_loss improved from 0.79165 to 0.67736, saving model to checkpoints_best_only/checkpoint\n",
            "125/125 [==============================] - 19s 154ms/step - loss: 0.3883 - accuracy: 0.8600 - val_loss: 0.6774 - val_accuracy: 0.7680\n",
            "Epoch 23/50\n",
            "125/125 [==============================] - ETA: 0s - loss: 0.3342 - accuracy: 0.8813\n",
            "Epoch 00023: saving model to checkpoints_every_epoch/checkpoint_023\n",
            "\n",
            "Epoch 00023: val_loss did not improve from 0.67736\n",
            "125/125 [==============================] - 20s 157ms/step - loss: 0.3342 - accuracy: 0.8813 - val_loss: 1.3794 - val_accuracy: 0.6260\n",
            "Epoch 24/50\n",
            "125/125 [==============================] - ETA: 0s - loss: 0.3410 - accuracy: 0.8832\n",
            "Epoch 00024: saving model to checkpoints_every_epoch/checkpoint_024\n",
            "\n",
            "Epoch 00024: val_loss did not improve from 0.67736\n",
            "125/125 [==============================] - 19s 156ms/step - loss: 0.3410 - accuracy: 0.8832 - val_loss: 1.3558 - val_accuracy: 0.6150\n",
            "Epoch 25/50\n",
            "125/125 [==============================] - ETA: 0s - loss: 0.3229 - accuracy: 0.8863\n",
            "Epoch 00025: saving model to checkpoints_every_epoch/checkpoint_025\n",
            "\n",
            "Epoch 00025: val_loss did not improve from 0.67736\n",
            "125/125 [==============================] - 19s 155ms/step - loss: 0.3229 - accuracy: 0.8863 - val_loss: 1.2708 - val_accuracy: 0.6270\n",
            "Epoch 26/50\n",
            "125/125 [==============================] - ETA: 0s - loss: 0.3143 - accuracy: 0.8873\n",
            "Epoch 00026: saving model to checkpoints_every_epoch/checkpoint_026\n",
            "\n",
            "Epoch 00026: val_loss did not improve from 0.67736\n",
            "125/125 [==============================] - 19s 154ms/step - loss: 0.3143 - accuracy: 0.8873 - val_loss: 0.8644 - val_accuracy: 0.7430\n",
            "Epoch 27/50\n",
            "125/125 [==============================] - ETA: 0s - loss: 0.3001 - accuracy: 0.8920\n",
            "Epoch 00027: saving model to checkpoints_every_epoch/checkpoint_027\n",
            "\n",
            "Epoch 00027: val_loss did not improve from 0.67736\n",
            "125/125 [==============================] - 19s 156ms/step - loss: 0.3001 - accuracy: 0.8920 - val_loss: 1.7284 - val_accuracy: 0.5850\n",
            "Epoch 28/50\n",
            "125/125 [==============================] - ETA: 0s - loss: 0.2849 - accuracy: 0.9013\n",
            "Epoch 00028: saving model to checkpoints_every_epoch/checkpoint_028\n",
            "\n",
            "Epoch 00028: val_loss did not improve from 0.67736\n",
            "125/125 [==============================] - 19s 153ms/step - loss: 0.2849 - accuracy: 0.9013 - val_loss: 0.9381 - val_accuracy: 0.7340\n",
            "Epoch 29/50\n",
            "125/125 [==============================] - ETA: 0s - loss: 0.2779 - accuracy: 0.9025\n",
            "Epoch 00029: saving model to checkpoints_every_epoch/checkpoint_029\n",
            "\n",
            "Epoch 00029: val_loss did not improve from 0.67736\n",
            "125/125 [==============================] - 19s 153ms/step - loss: 0.2779 - accuracy: 0.9025 - val_loss: 1.3686 - val_accuracy: 0.6180\n",
            "Epoch 30/50\n",
            "125/125 [==============================] - ETA: 0s - loss: 0.2831 - accuracy: 0.8997\n",
            "Epoch 00030: saving model to checkpoints_every_epoch/checkpoint_030\n",
            "\n",
            "Epoch 00030: val_loss did not improve from 0.67736\n",
            "125/125 [==============================] - 19s 154ms/step - loss: 0.2831 - accuracy: 0.8997 - val_loss: 0.9464 - val_accuracy: 0.7310\n",
            "Epoch 31/50\n",
            "125/125 [==============================] - ETA: 0s - loss: 0.2360 - accuracy: 0.9168\n",
            "Epoch 00031: saving model to checkpoints_every_epoch/checkpoint_031\n",
            "\n",
            "Epoch 00031: val_loss did not improve from 0.67736\n",
            "125/125 [==============================] - 19s 155ms/step - loss: 0.2360 - accuracy: 0.9168 - val_loss: 2.4861 - val_accuracy: 0.4780\n",
            "Epoch 32/50\n",
            "125/125 [==============================] - ETA: 0s - loss: 0.2602 - accuracy: 0.9013\n",
            "Epoch 00032: saving model to checkpoints_every_epoch/checkpoint_032\n",
            "\n",
            "Epoch 00032: val_loss did not improve from 0.67736\n",
            "125/125 [==============================] - 19s 155ms/step - loss: 0.2602 - accuracy: 0.9013 - val_loss: 1.1853 - val_accuracy: 0.6960\n",
            "Epoch 33/50\n",
            "125/125 [==============================] - ETA: 0s - loss: 0.2579 - accuracy: 0.9128\n",
            "Epoch 00033: saving model to checkpoints_every_epoch/checkpoint_033\n",
            "\n",
            "Epoch 00033: val_loss did not improve from 0.67736\n",
            "125/125 [==============================] - 19s 153ms/step - loss: 0.2579 - accuracy: 0.9128 - val_loss: 2.3042 - val_accuracy: 0.5780\n",
            "Epoch 34/50\n",
            "125/125 [==============================] - ETA: 0s - loss: 0.2424 - accuracy: 0.9153\n",
            "Epoch 00034: saving model to checkpoints_every_epoch/checkpoint_034\n",
            "\n",
            "Epoch 00034: val_loss did not improve from 0.67736\n",
            "125/125 [==============================] - 20s 156ms/step - loss: 0.2424 - accuracy: 0.9153 - val_loss: 0.9582 - val_accuracy: 0.7400\n",
            "Epoch 00034: early stopping\n"
          ],
          "name": "stdout"
        }
      ]
    },
    {
      "cell_type": "code",
      "metadata": {
        "id": "dUVHnP6t4J_P",
        "colab_type": "code",
        "colab": {
          "base_uri": "https://localhost:8080/",
          "height": 573
        },
        "outputId": "ed17bbbc-7879-49c1-ffde-13afe03d280d"
      },
      "source": [
        "# Plot Learning Curves\n",
        "\n",
        "# Accuracy vs Epochs\n",
        "try:\n",
        "    plt.plot(call_history.history['accuracy'])\n",
        "    plt.plot(call_history.history['val_accuracy'])\n",
        "except KeyError:\n",
        "    plt.plot(call_history.history['acc'])\n",
        "    plt.plot(call_history.history['val_acc'])\n",
        "plt.title('Accuracy vs. Epochs')\n",
        "plt.ylabel('Accuracy')\n",
        "plt.xlabel('Epoch')\n",
        "plt.legend(['Training', 'Validation'], loc='lower right')\n",
        "plt.show() \n",
        "\n",
        "# Loss vs Epochs\n",
        "plt.plot(call_history.history['loss'])\n",
        "plt.plot(call_history.history['val_loss'])\n",
        "plt.title('Loss vs. Epochs')\n",
        "plt.ylabel('Loss')\n",
        "plt.xlabel('Epoch')\n",
        "plt.legend(['Training', 'Validation'], loc='upper right')\n",
        "plt.show() "
      ],
      "execution_count": 101,
      "outputs": [
        {
          "output_type": "display_data",
          "data": {
            "image/png": "[encoded data removed]",
            "text/plain": [
              "<Figure size 432x288 with 1 Axes>"
            ]
          },
          "metadata": {
            "tags": [],
            "needs_background": "light"
          }
        },
        {
          "output_type": "display_data",
          "data": {
            "image/png": "[encoded data removed]",
            "text/plain": [
              "<Figure size 432x288 with 1 Axes>"
            ]
          },
          "metadata": {
            "tags": [],
            "needs_background": "light"
          }
        }
      ]
    },
    {
      "cell_type": "code",
      "metadata": {
        "id": "p2L83pt19kla",
        "colab_type": "code",
        "colab": {}
      },
      "source": [
        "# Define functions to generate model with saved weights\n",
        "\n",
        "def get_model_last_epoch(model):\n",
        "  \"\"\"\n",
        "  This function creates a new instance of the CNN created earlier,\n",
        "  loads the weights from the last training epoch, and returns the model\n",
        "  \"\"\"\n",
        "  max_epoch = len(call_history.history['loss'])\n",
        "  checkpoint_path = 'checkpoints_every_epoch/checkpoint_{epoch:03d}'.format(epoch=max_epoch)\n",
        "  model.load_weights(checkpoint_path)\n",
        "  return model\n",
        "\n",
        "\n",
        "def get_model_best_epoch(model):\n",
        "  \"\"\"\n",
        "  This function creates a new instance of the CNN created earlier, loads\n",
        "  the weights that led to the highest validation accuracy, and returns the model\n",
        "  \"\"\"\n",
        "  checkpoint_path = 'checkpoints_best_only/checkpoint'\n",
        "  model.load_weights(checkpoint_path)\n",
        "  return model"
      ],
      "execution_count": 144,
      "outputs": []
    },
    {
      "cell_type": "code",
      "metadata": {
        "id": "DGcjM0taIThl",
        "colab_type": "code",
        "colab": {
          "base_uri": "https://localhost:8080/",
          "height": 1000
        },
        "outputId": "202e354f-5b2b-42fa-816b-be2bb08900ed"
      },
      "source": [
        "! ls -lh checkpoints_every_epoch/"
      ],
      "execution_count": 110,
      "outputs": [
        {
          "output_type": "stream",
          "text": [
            "total 5.4M\n",
            "-rw-r--r-- 1 root root   85 Jul 16 18:49 checkpoint\n",
            "-rw-r--r-- 1 root root 149K Jul 16 18:38 checkpoint_001.data-00000-of-00001\n",
            "-rw-r--r-- 1 root root 4.8K Jul 16 18:38 checkpoint_001.index\n",
            "-rw-r--r-- 1 root root 149K Jul 16 18:38 checkpoint_002.data-00000-of-00001\n",
            "-rw-r--r-- 1 root root 4.8K Jul 16 18:38 checkpoint_002.index\n",
            "-rw-r--r-- 1 root root 149K Jul 16 18:39 checkpoint_003.data-00000-of-00001\n",
            "-rw-r--r-- 1 root root 4.8K Jul 16 18:39 checkpoint_003.index\n",
            "-rw-r--r-- 1 root root 149K Jul 16 18:39 checkpoint_004.data-00000-of-00001\n",
            "-rw-r--r-- 1 root root 4.8K Jul 16 18:39 checkpoint_004.index\n",
            "-rw-r--r-- 1 root root 149K Jul 16 18:39 checkpoint_005.data-00000-of-00001\n",
            "-rw-r--r-- 1 root root 4.8K Jul 16 18:39 checkpoint_005.index\n",
            "-rw-r--r-- 1 root root 149K Jul 16 18:40 checkpoint_006.data-00000-of-00001\n",
            "-rw-r--r-- 1 root root 4.8K Jul 16 18:40 checkpoint_006.index\n",
            "-rw-r--r-- 1 root root 149K Jul 16 18:40 checkpoint_007.data-00000-of-00001\n",
            "-rw-r--r-- 1 root root 4.8K Jul 16 18:40 checkpoint_007.index\n",
            "-rw-r--r-- 1 root root 149K Jul 16 18:40 checkpoint_008.data-00000-of-00001\n",
            "-rw-r--r-- 1 root root 4.8K Jul 16 18:40 checkpoint_008.index\n",
            "-rw-r--r-- 1 root root 149K Jul 16 18:41 checkpoint_009.data-00000-of-00001\n",
            "-rw-r--r-- 1 root root 4.8K Jul 16 18:41 checkpoint_009.index\n",
            "-rw-r--r-- 1 root root 149K Jul 16 18:41 checkpoint_010.data-00000-of-00001\n",
            "-rw-r--r-- 1 root root 4.8K Jul 16 18:41 checkpoint_010.index\n",
            "-rw-r--r-- 1 root root 149K Jul 16 18:41 checkpoint_011.data-00000-of-00001\n",
            "-rw-r--r-- 1 root root 4.8K Jul 16 18:41 checkpoint_011.index\n",
            "-rw-r--r-- 1 root root 149K Jul 16 18:42 checkpoint_012.data-00000-of-00001\n",
            "-rw-r--r-- 1 root root 4.8K Jul 16 18:42 checkpoint_012.index\n",
            "-rw-r--r-- 1 root root 149K Jul 16 18:42 checkpoint_013.data-00000-of-00001\n",
            "-rw-r--r-- 1 root root 4.8K Jul 16 18:42 checkpoint_013.index\n",
            "-rw-r--r-- 1 root root 149K Jul 16 18:42 checkpoint_014.data-00000-of-00001\n",
            "-rw-r--r-- 1 root root 4.8K Jul 16 18:42 checkpoint_014.index\n",
            "-rw-r--r-- 1 root root 149K Jul 16 18:43 checkpoint_015.data-00000-of-00001\n",
            "-rw-r--r-- 1 root root 4.8K Jul 16 18:43 checkpoint_015.index\n",
            "-rw-r--r-- 1 root root 149K Jul 16 18:43 checkpoint_016.data-00000-of-00001\n",
            "-rw-r--r-- 1 root root 4.8K Jul 16 18:43 checkpoint_016.index\n",
            "-rw-r--r-- 1 root root 149K Jul 16 18:43 checkpoint_017.data-00000-of-00001\n",
            "-rw-r--r-- 1 root root 4.8K Jul 16 18:43 checkpoint_017.index\n",
            "-rw-r--r-- 1 root root 149K Jul 16 18:44 checkpoint_018.data-00000-of-00001\n",
            "-rw-r--r-- 1 root root 4.8K Jul 16 18:44 checkpoint_018.index\n",
            "-rw-r--r-- 1 root root 149K Jul 16 18:44 checkpoint_019.data-00000-of-00001\n",
            "-rw-r--r-- 1 root root 4.8K Jul 16 18:44 checkpoint_019.index\n",
            "-rw-r--r-- 1 root root 149K Jul 16 18:44 checkpoint_020.data-00000-of-00001\n",
            "-rw-r--r-- 1 root root 4.8K Jul 16 18:44 checkpoint_020.index\n",
            "-rw-r--r-- 1 root root 149K Jul 16 18:45 checkpoint_021.data-00000-of-00001\n",
            "-rw-r--r-- 1 root root 4.8K Jul 16 18:45 checkpoint_021.index\n",
            "-rw-r--r-- 1 root root 149K Jul 16 18:45 checkpoint_022.data-00000-of-00001\n",
            "-rw-r--r-- 1 root root 4.8K Jul 16 18:45 checkpoint_022.index\n",
            "-rw-r--r-- 1 root root 149K Jul 16 18:45 checkpoint_023.data-00000-of-00001\n",
            "-rw-r--r-- 1 root root 4.8K Jul 16 18:45 checkpoint_023.index\n",
            "-rw-r--r-- 1 root root 149K Jul 16 18:46 checkpoint_024.data-00000-of-00001\n",
            "-rw-r--r-- 1 root root 4.8K Jul 16 18:46 checkpoint_024.index\n",
            "-rw-r--r-- 1 root root 149K Jul 16 18:46 checkpoint_025.data-00000-of-00001\n",
            "-rw-r--r-- 1 root root 4.8K Jul 16 18:46 checkpoint_025.index\n",
            "-rw-r--r-- 1 root root 149K Jul 16 18:46 checkpoint_026.data-00000-of-00001\n",
            "-rw-r--r-- 1 root root 4.8K Jul 16 18:46 checkpoint_026.index\n",
            "-rw-r--r-- 1 root root 149K Jul 16 18:47 checkpoint_027.data-00000-of-00001\n",
            "-rw-r--r-- 1 root root 4.8K Jul 16 18:47 checkpoint_027.index\n",
            "-rw-r--r-- 1 root root 149K Jul 16 18:47 checkpoint_028.data-00000-of-00001\n",
            "-rw-r--r-- 1 root root 4.8K Jul 16 18:47 checkpoint_028.index\n",
            "-rw-r--r-- 1 root root 149K Jul 16 18:47 checkpoint_029.data-00000-of-00001\n",
            "-rw-r--r-- 1 root root 4.8K Jul 16 18:47 checkpoint_029.index\n",
            "-rw-r--r-- 1 root root 149K Jul 16 18:48 checkpoint_030.data-00000-of-00001\n",
            "-rw-r--r-- 1 root root 4.8K Jul 16 18:48 checkpoint_030.index\n",
            "-rw-r--r-- 1 root root 149K Jul 16 18:48 checkpoint_031.data-00000-of-00001\n",
            "-rw-r--r-- 1 root root 4.8K Jul 16 18:48 checkpoint_031.index\n",
            "-rw-r--r-- 1 root root 149K Jul 16 18:48 checkpoint_032.data-00000-of-00001\n",
            "-rw-r--r-- 1 root root 4.8K Jul 16 18:48 checkpoint_032.index\n",
            "-rw-r--r-- 1 root root 149K Jul 16 18:49 checkpoint_033.data-00000-of-00001\n",
            "-rw-r--r-- 1 root root 4.8K Jul 16 18:49 checkpoint_033.index\n",
            "-rw-r--r-- 1 root root 149K Jul 16 18:49 checkpoint_034.data-00000-of-00001\n",
            "-rw-r--r-- 1 root root 4.8K Jul 16 18:49 checkpoint_034.index\n"
          ],
          "name": "stdout"
        }
      ]
    },
    {
      "cell_type": "code",
      "metadata": {
        "id": "AxlUreUY-eUL",
        "colab_type": "code",
        "colab": {
          "base_uri": "https://localhost:8080/",
          "height": 101
        },
        "outputId": "d6a02053-e545-4fe7-90f8-8b7b9a7a595d"
      },
      "source": [
        "# Run this cell to create two models: one with the weights from the last training\n",
        "# epoch, and one wiht the weights leading to the highest validation (testing) accuracy.\n",
        "# Verify that the second has a higher validation (testing) accuarcy.\n",
        "\n",
        "model_last_epoch = get_model_last_epoch(get_new_model(x_train[0].shape))\n",
        "model_best_epoch = get_model_best_epoch(get_new_model(x_train[0].shape))\n",
        "print('Model with last epoch weights:')\n",
        "get_test_accuracy(model_last_epoch, x_test, y_test)\n",
        "print('')\n",
        "print('Model with best epoch weights:')\n",
        "get_test_accuracy(model_best_epoch, x_test, y_test)"
      ],
      "execution_count": 145,
      "outputs": [
        {
          "output_type": "stream",
          "text": [
            "Model with last epoch weights:\n",
            "accuracy: 0.740\n",
            "\n",
            "Model with best epoch weights:\n",
            "accuracy: 0.768\n"
          ],
          "name": "stdout"
        }
      ]
    }
  ]
}